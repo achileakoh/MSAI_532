import difflib
from transformers import MarianMTModel, MarianTokenizer

# Sample text in English
sample_text = ("This is a sample text consisting of exactly one hundred words. "
               "It serves as a way to test the capabilities and performance of different transformer models "
               "when it comes to translating from English to another language. "
               "By comparing the outputs of two different models, we can observe how the translation quality "
               "and fidelity to the original text may vary. "
               "This experiment will provide valuable insights into the strengths and weaknesses of each model, "
               "allowing us to make informed decisions about their potential use cases and applications.")

# Function to translate text using a specific model
def translate_text(model_name, text):
    tokenizer = MarianTokenizer.from_pretrained(model_name)
    model = MarianMTModel.from_pretrained(model_name)
    
    translated = model.generate(**tokenizer(text, return_tensors="pt", padding=True))
    return tokenizer.batch_decode(translated, skip_special_tokens=True)[0]

# Model names (can be changed to other compatible models)
model_name_1 = 'Helsinki-NLP/opus-mt-en-fr'
model_name_2 = 'Helsinki-NLP/opus-mt-en-fr'

# Translate text using both models
translated_text_1 = translate_text(model_name_1, sample_text)
translated_text_2 = translate_text(model_name_2, sample_text)

# Compare the two translations
diff = difflib.ndiff(translated_text_1.split(), translated_text_2.split())

# Write differences to a file
with open('translation_differences.txt', 'w') as file:
    file.write('Differences between translations:\n')
    file.write('\n'.join(diff))

print("Differences have been written to translation_differences.txt")